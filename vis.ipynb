{
 "cells": [
  {
   "cell_type": "code",
   "execution_count": null,
   "metadata": {},
   "outputs": [],
   "source": "import pandas as pd\nimport matplotlib.pyplot as plt\n\n# Load Q1 dataset\ndf = pd.read_csv('thtsoa_dataset_q1')\n\n# Simple time series plot\nplt.figure(figsize=(12, 6))\nplt.plot(df['Month'], df['Orders Processed'], marker='o', label='Orders Processed', linewidth=2)\nplt.plot(df['Month'], df['Picking Errors'], marker='s', label='Picking Errors', linewidth=2)\nplt.plot(df['Month'], df['Late Deliveries'], marker='^', label='Late Deliveries', linewidth=2)\n\nplt.xlabel('Month')\nplt.ylabel('Count')\nplt.title('Fulfillio Q1 Operations Metrics')\nplt.legend()\nplt.grid(alpha=0.3)\nplt.tight_layout()\nplt.show()"
  }
 ],
 "metadata": {
  "kernelspec": {
   "display_name": "Python 3",
   "language": "python",
   "name": "python3"
  },
  "language_info": {
   "name": "python",
   "version": "3.8.0"
  }
 },
 "nbformat": 4,
 "nbformat_minor": 5
}